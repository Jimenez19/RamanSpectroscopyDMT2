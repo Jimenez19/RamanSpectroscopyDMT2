{
  "nbformat": 4,
  "nbformat_minor": 0,
  "metadata": {
    "colab": {
      "name": "TFM.ipynb",
      "provenance": [],
      "collapsed_sections": [],
      "mount_file_id": "1pqHA_cHI2E0cpNFUGkT6m2SE3gk42lP1",
      "authorship_tag": "ABX9TyPL+JfGb+fyjVxMRS2pZIIy",
      "include_colab_link": true
    },
    "kernelspec": {
      "name": "python3",
      "display_name": "Python 3"
    },
    "language_info": {
      "name": "python"
    }
  },
  "cells": [
    {
      "cell_type": "markdown",
      "metadata": {
        "id": "view-in-github",
        "colab_type": "text"
      },
      "source": [
        "<a href=\"https://colab.research.google.com/github/Jimenez19/RamanSpectroscopyDMT2/blob/main/TFM.ipynb\" target=\"_parent\"><img src=\"https://colab.research.google.com/assets/colab-badge.svg\" alt=\"Open In Colab\"/></a>"
      ]
    },
    {
      "cell_type": "code",
      "execution_count": null,
      "metadata": {
        "id": "e5qi3CX5zD_C"
      },
      "outputs": [],
      "source": [
        ""
      ]
    },
    {
      "cell_type": "markdown",
      "source": [
        "Esto es una prueba"
      ],
      "metadata": {
        "id": "UfA1PwvOx6Vp"
      }
    }
  ]
}