{
 "cells": [
  {
   "cell_type": "markdown",
   "source": [
    "# Detección de Diabetes con Espectroscopia Raman utilizando técnicas de aprendizaje supervisado"
   ],
   "metadata": {
    "collapsed": false,
    "pycharm": {
     "name": "#%% md\n"
    }
   }
  },
  {
   "cell_type": "code",
   "execution_count": 1,
   "metadata": {
    "id": "e5qi3CX5zD_C",
    "pycharm": {
     "name": "#%%\n"
    }
   },
   "outputs": [],
   "source": [
    "# Se importan las librerías\n",
    "import numpy as np\n",
    "import pandas as pd\n",
    "import matplotlib.pyplot as plt\n",
    "\n",
    "from tensorflow import keras\n",
    "from keras import layers\n",
    "from keras.optimizers import SGD\n",
    "from keras.wrappers.scikit_learn import KerasClassifier\n",
    "\n",
    "from sklearn.model_selection import train_test_split, GridSearchCV, RandomizedSearchCV, LeaveOneOut\n",
    "from sklearn.naive_bayes import GaussianNB\n",
    "from sklearn.svm import SVC\n",
    "from sklearn.ensemble import RandomForestClassifier\n",
    "from sklearn.metrics import confusion_matrix, accuracy_score, precision_score, recall_score, f1_score\n",
    "from sklearn.preprocessing import StandardScaler\n",
    "from sklearn.decomposition import PCA\n",
    "from sklearn.neighbors import KNeighborsClassifier\n",
    "\n",
    "from skopt import BayesSearchCV\n",
    "\n",
    "from BaselineRemoval import BaselineRemoval\n",
    "\n",
    "from statistics import mode\n",
    "\n",
    "import time\n",
    "from datetime import timedelta"
   ]
  },
  {
   "cell_type": "code",
   "execution_count": 2,
   "outputs": [],
   "source": [
    "\"\"\"Se definen las funciones que se van a usar para imprimir gráficas\"\"\"\n",
    "\n",
    "# Imprime la gráfica de un espectro Raman\n",
    "def plot_df(x, y, title=\"\", x_label=r'Desplazamiento Raman [$cm^{-1}$]', y_label='Intensidad', dpi=100, color='tab:red'):\n",
    "    plt.figure(figsize=(16,5), dpi=dpi)\n",
    "    plt.plot(x, y, color=color)\n",
    "    plt.gca().set(title=title, xlabel=x_label, ylabel=y_label)\n",
    "    plt.show()\n",
    "\n",
    "# Imprime la gráfica de dos espectros Raman\n",
    "def plot_df_compare(x, y_1, y_2, title=\"\", x_label=r'Desplazamiento Raman [$cm^{-1}$]', y_label='Intensidad', dpi=100):\n",
    "    plt.figure(figsize=(16,5), dpi=dpi)\n",
    "    plt.plot(x, y_1, color='tab:red')\n",
    "    plt.plot(x, y_2, color='tab:blue')\n",
    "    plt.gca().set(title=title, xlabel=x_label, ylabel=y_label)\n",
    "    plt.show()\n",
    "\n",
    "# Imprime una gráfica mostrando la accuracy por epoch obtenida en un entrenamiento\n",
    "def plot_acc(history, title=\"Model Accuracy\"):\n",
    "    plt.plot(history.history['accuracy'])\n",
    "    plt.plot(history.history['val_accuracy'])\n",
    "    plt.title(title)\n",
    "    plt.ylabel('Accuracy')\n",
    "    plt.xlabel('Epoch')\n",
    "    plt.legend(['Train', 'Val'], loc='upper left')\n",
    "    plt.show()\n",
    "\n",
    "# Imprime una gráfica mostrando la pérdida por epoch obtenida en un entrenamiento\n",
    "def plot_loss(history, title=\"Model Loss\"):\n",
    "    plt.plot(history.history['loss'])\n",
    "    plt.plot(history.history['val_loss'])\n",
    "    plt.title(title)\n",
    "    plt.ylabel('Loss')\n",
    "    plt.xlabel('Epoch')\n",
    "    plt.legend(['Train', 'Val'], loc='upper right')\n",
    "    plt.show()\n",
    "\n",
    "# Compara losses de dos entrenamientos con nombres name1 y name2\n",
    "def plot_compare_losses(history1, history2, name1=\"Red 1\",\n",
    "                        name2=\"Red 2\", title=\"Losses\"):\n",
    "    plt.plot(history1.history['loss'], color=\"green\")\n",
    "    plt.plot(history1.history['val_loss'], 'r--', color=\"green\")\n",
    "    plt.plot(history2.history['loss'], color=\"blue\")\n",
    "    plt.plot(history2.history['val_loss'], 'r--', color=\"blue\")\n",
    "    plt.title(title)\n",
    "    plt.ylabel('Loss')\n",
    "    plt.xlabel('Epoch')\n",
    "    plt.legend(['Train ' + name1, 'Val ' + name1,\n",
    "                'Train ' + name2, 'Val ' + name2],\n",
    "               loc='upper right')\n",
    "    plt.show()\n",
    "\n",
    "# Compara accuracies de dos entrenamientos con nombres name1 y name2\n",
    "def plot_compare_accs(history1, history2, name1=\"Red 1\",\n",
    "                      name2=\"Red 2\", title=\"Accuracies\"):\n",
    "    plt.plot(history1.history['accuracy'], color=\"green\")\n",
    "    plt.plot(history1.history['val_accuracy'], 'r--', color=\"green\")\n",
    "    plt.plot(history2.history['accuracy'], color=\"blue\")\n",
    "    plt.plot(history2.history['val_accuracy'], 'r--', color=\"blue\")\n",
    "    plt.title(title)\n",
    "    plt.ylabel('Accuracy')\n",
    "    plt.xlabel('Epoch')\n",
    "    plt.legend(['Train ' + name1, 'Val ' + name1,\n",
    "                'Train ' + name2, 'Val ' + name2],\n",
    "               loc='lower right')\n",
    "    plt.show()\n",
    "\n",
    "# Compara accuracies de dos entrenamientos con nombres name1 y name2\n",
    "def plot_compare_accs_3(history1, history2, history3, name1=\"Red 1\",\n",
    "                      name2=\"Red 2\", name3=\"Red 3\", title=\"Accuracies\"):\n",
    "    plt.plot(history1.history['accuracy'], color=\"green\")\n",
    "    plt.plot(history1.history['val_accuracy'], 'r--', color=\"green\")\n",
    "    plt.plot(history2.history['accuracy'], color=\"blue\")\n",
    "    plt.plot(history2.history['val_accuracy'], 'r--', color=\"blue\")\n",
    "    plt.plot(history3.history['accuracy'], color=\"red\")\n",
    "    plt.plot(history3.history['val_accuracy'], 'r--', color=\"red\")\n",
    "    plt.title(title)\n",
    "    plt.ylabel('Accuracy')\n",
    "    plt.xlabel('Epoch')\n",
    "    plt.legend(['Train ' + name1, 'Val ' + name1,\n",
    "                'Train ' + name2, 'Val ' + name2,\n",
    "                'Train ' + name3, 'Val ' + name3],\n",
    "               loc='lower right')\n",
    "    plt.show()"
   ],
   "metadata": {
    "collapsed": false,
    "pycharm": {
     "name": "#%%\n"
    }
   }
  },
  {
   "cell_type": "code",
   "execution_count": 3,
   "outputs": [],
   "source": [
    "# Se cargan los datos de los distintos archivos y se asignan a un Data Frame gracias a la librería pandas\n",
    "RamanEarLobeDF = pd.read_csv('data/earLobe.csv')\n",
    "RamanInnerArmDF = pd.read_csv('data/innerArm.csv')\n",
    "RamanThumbNailDF = pd.read_csv('data/thumbNail.csv')\n",
    "RamanVeinDF = pd.read_csv('data/vein.csv')"
   ],
   "metadata": {
    "collapsed": false,
    "pycharm": {
     "name": "#%%\n"
    }
   }
  },
  {
   "cell_type": "markdown",
   "source": [
    "## Preprocesamiento"
   ],
   "metadata": {
    "collapsed": false,
    "pycharm": {
     "name": "#%% md\n"
    }
   }
  },
  {
   "cell_type": "code",
   "execution_count": 4,
   "outputs": [
    {
     "data": {
      "text/plain": "     patientID  has_DM2        Var2        Var3        Var4        Var5  \\\n0   ramanShift      NaN    0.000000    1.000000    2.000000    3.000000   \n1        DM201      1.0  326.000000  326.000000  326.000000  326.000000   \n2        DM202      1.0  214.800000  214.800000  214.800000  214.800000   \n3        DM203      1.0  457.800000  457.800000  457.800000  457.800000   \n4        DM204      1.0  181.833333  181.833333  181.833333  181.833333   \n5        DM205      1.0  179.800000  179.800000  179.800000  179.800000   \n6        DM206      1.0  237.400000  237.400000  237.400000  237.400000   \n7        DM207      1.0  217.333333  217.333333  217.333333  217.333333   \n8        DM208      1.0   89.166667   89.166667   89.166667   89.166667   \n9        DM209      1.0  336.600000  336.600000  336.600000  336.600000   \n10       DM210      1.0   89.600000   89.600000   89.600000   89.600000   \n11       DM211      1.0  320.400000  320.400000  320.400000  320.400000   \n12      Ctrl01      0.0  230.800000  230.800000  230.800000  230.800000   \n13      Ctrl02      0.0  159.600000  159.600000  159.600000  159.600000   \n14      Ctrl03      0.0  327.000000  327.000000  327.000000  327.000000   \n15      Ctrl04      0.0   94.400000   94.400000   94.400000   94.400000   \n16      Ctrl05      0.0   71.833333   71.833333   71.833333   71.833333   \n17      Ctrl06      0.0  325.600000  325.600000  325.600000  325.600000   \n18      Ctrl07      0.0  116.000000  116.000000  116.000000  116.000000   \n19      Ctrl08      0.0  272.500000  272.500000  272.500000  272.500000   \n20      Ctrl09      0.0  156.166667  156.166667  156.166667  156.166667   \n\n          Var6        Var7        Var8        Var9  ...  Var3152  Var3153  \\\n0     4.000000    5.000000    6.000000    7.000000  ...     3150     3151   \n1   326.000000  326.000000  326.000000  326.000000  ...        0        0   \n2   214.800000  214.800000  214.800000  214.800000  ...        0        0   \n3   457.800000  457.800000  457.800000  457.800000  ...        0        0   \n4   181.833333  181.833333  181.833333  181.833333  ...        0        0   \n5   179.800000  179.800000  179.800000  179.800000  ...        0        0   \n6   237.400000  237.400000  237.400000  237.400000  ...        0        0   \n7   217.333333  217.333333  217.333333  217.333333  ...        0        0   \n8    89.166667   89.166667   89.166667   89.166667  ...        0        0   \n9   336.600000  336.600000  336.600000  336.600000  ...        0        0   \n10   89.600000   89.600000   89.600000   89.600000  ...        0        0   \n11  320.400000  320.400000  320.400000  320.400000  ...        0        0   \n12  230.800000  230.800000  230.800000  230.800000  ...        0        0   \n13  159.600000  159.600000  159.600000  159.600000  ...        0        0   \n14  327.000000  327.000000  327.000000  327.000000  ...        0        0   \n15   94.400000   94.400000   94.400000   94.400000  ...        0        0   \n16   71.833333   71.833333   71.833333   71.833333  ...        0        0   \n17  325.600000  325.600000  325.600000  325.600000  ...        0        0   \n18  116.000000  116.000000  116.000000  116.000000  ...        0        0   \n19  272.500000  272.500000  272.500000  272.500000  ...        0        0   \n20  156.166667  156.166667  156.166667  156.166667  ...        0        0   \n\n    Var3154  Var3155  Var3156  Var3157  Var3158  Var3159  Var3160  Var3161  \n0      3152     3153     3154     3155     3156     3157     3158     3159  \n1         0        0        0        0        0        0        0        0  \n2         0        0        0        0        0        0        0        0  \n3         0        0        0        0        0        0        0        0  \n4         0        0        0        0        0        0        0        0  \n5         0        0        0        0        0        0        0        0  \n6         0        0        0        0        0        0        0        0  \n7         0        0        0        0        0        0        0        0  \n8         0        0        0        0        0        0        0        0  \n9         0        0        0        0        0        0        0        0  \n10        0        0        0        0        0        0        0        0  \n11        0        0        0        0        0        0        0        0  \n12        0        0        0        0        0        0        0        0  \n13        0        0        0        0        0        0        0        0  \n14        0        0        0        0        0        0        0        0  \n15        0        0        0        0        0        0        0        0  \n16        0        0        0        0        0        0        0        0  \n17        0        0        0        0        0        0        0        0  \n18        0        0        0        0        0        0        0        0  \n19        0        0        0        0        0        0        0        0  \n20        0        0        0        0        0        0        0        0  \n\n[21 rows x 3162 columns]",
      "text/html": "<div>\n<style scoped>\n    .dataframe tbody tr th:only-of-type {\n        vertical-align: middle;\n    }\n\n    .dataframe tbody tr th {\n        vertical-align: top;\n    }\n\n    .dataframe thead th {\n        text-align: right;\n    }\n</style>\n<table border=\"1\" class=\"dataframe\">\n  <thead>\n    <tr style=\"text-align: right;\">\n      <th></th>\n      <th>patientID</th>\n      <th>has_DM2</th>\n      <th>Var2</th>\n      <th>Var3</th>\n      <th>Var4</th>\n      <th>Var5</th>\n      <th>Var6</th>\n      <th>Var7</th>\n      <th>Var8</th>\n      <th>Var9</th>\n      <th>...</th>\n      <th>Var3152</th>\n      <th>Var3153</th>\n      <th>Var3154</th>\n      <th>Var3155</th>\n      <th>Var3156</th>\n      <th>Var3157</th>\n      <th>Var3158</th>\n      <th>Var3159</th>\n      <th>Var3160</th>\n      <th>Var3161</th>\n    </tr>\n  </thead>\n  <tbody>\n    <tr>\n      <th>0</th>\n      <td>ramanShift</td>\n      <td>NaN</td>\n      <td>0.000000</td>\n      <td>1.000000</td>\n      <td>2.000000</td>\n      <td>3.000000</td>\n      <td>4.000000</td>\n      <td>5.000000</td>\n      <td>6.000000</td>\n      <td>7.000000</td>\n      <td>...</td>\n      <td>3150</td>\n      <td>3151</td>\n      <td>3152</td>\n      <td>3153</td>\n      <td>3154</td>\n      <td>3155</td>\n      <td>3156</td>\n      <td>3157</td>\n      <td>3158</td>\n      <td>3159</td>\n    </tr>\n    <tr>\n      <th>1</th>\n      <td>DM201</td>\n      <td>1.0</td>\n      <td>326.000000</td>\n      <td>326.000000</td>\n      <td>326.000000</td>\n      <td>326.000000</td>\n      <td>326.000000</td>\n      <td>326.000000</td>\n      <td>326.000000</td>\n      <td>326.000000</td>\n      <td>...</td>\n      <td>0</td>\n      <td>0</td>\n      <td>0</td>\n      <td>0</td>\n      <td>0</td>\n      <td>0</td>\n      <td>0</td>\n      <td>0</td>\n      <td>0</td>\n      <td>0</td>\n    </tr>\n    <tr>\n      <th>2</th>\n      <td>DM202</td>\n      <td>1.0</td>\n      <td>214.800000</td>\n      <td>214.800000</td>\n      <td>214.800000</td>\n      <td>214.800000</td>\n      <td>214.800000</td>\n      <td>214.800000</td>\n      <td>214.800000</td>\n      <td>214.800000</td>\n      <td>...</td>\n      <td>0</td>\n      <td>0</td>\n      <td>0</td>\n      <td>0</td>\n      <td>0</td>\n      <td>0</td>\n      <td>0</td>\n      <td>0</td>\n      <td>0</td>\n      <td>0</td>\n    </tr>\n    <tr>\n      <th>3</th>\n      <td>DM203</td>\n      <td>1.0</td>\n      <td>457.800000</td>\n      <td>457.800000</td>\n      <td>457.800000</td>\n      <td>457.800000</td>\n      <td>457.800000</td>\n      <td>457.800000</td>\n      <td>457.800000</td>\n      <td>457.800000</td>\n      <td>...</td>\n      <td>0</td>\n      <td>0</td>\n      <td>0</td>\n      <td>0</td>\n      <td>0</td>\n      <td>0</td>\n      <td>0</td>\n      <td>0</td>\n      <td>0</td>\n      <td>0</td>\n    </tr>\n    <tr>\n      <th>4</th>\n      <td>DM204</td>\n      <td>1.0</td>\n      <td>181.833333</td>\n      <td>181.833333</td>\n      <td>181.833333</td>\n      <td>181.833333</td>\n      <td>181.833333</td>\n      <td>181.833333</td>\n      <td>181.833333</td>\n      <td>181.833333</td>\n      <td>...</td>\n      <td>0</td>\n      <td>0</td>\n      <td>0</td>\n      <td>0</td>\n      <td>0</td>\n      <td>0</td>\n      <td>0</td>\n      <td>0</td>\n      <td>0</td>\n      <td>0</td>\n    </tr>\n    <tr>\n      <th>5</th>\n      <td>DM205</td>\n      <td>1.0</td>\n      <td>179.800000</td>\n      <td>179.800000</td>\n      <td>179.800000</td>\n      <td>179.800000</td>\n      <td>179.800000</td>\n      <td>179.800000</td>\n      <td>179.800000</td>\n      <td>179.800000</td>\n      <td>...</td>\n      <td>0</td>\n      <td>0</td>\n      <td>0</td>\n      <td>0</td>\n      <td>0</td>\n      <td>0</td>\n      <td>0</td>\n      <td>0</td>\n      <td>0</td>\n      <td>0</td>\n    </tr>\n    <tr>\n      <th>6</th>\n      <td>DM206</td>\n      <td>1.0</td>\n      <td>237.400000</td>\n      <td>237.400000</td>\n      <td>237.400000</td>\n      <td>237.400000</td>\n      <td>237.400000</td>\n      <td>237.400000</td>\n      <td>237.400000</td>\n      <td>237.400000</td>\n      <td>...</td>\n      <td>0</td>\n      <td>0</td>\n      <td>0</td>\n      <td>0</td>\n      <td>0</td>\n      <td>0</td>\n      <td>0</td>\n      <td>0</td>\n      <td>0</td>\n      <td>0</td>\n    </tr>\n    <tr>\n      <th>7</th>\n      <td>DM207</td>\n      <td>1.0</td>\n      <td>217.333333</td>\n      <td>217.333333</td>\n      <td>217.333333</td>\n      <td>217.333333</td>\n      <td>217.333333</td>\n      <td>217.333333</td>\n      <td>217.333333</td>\n      <td>217.333333</td>\n      <td>...</td>\n      <td>0</td>\n      <td>0</td>\n      <td>0</td>\n      <td>0</td>\n      <td>0</td>\n      <td>0</td>\n      <td>0</td>\n      <td>0</td>\n      <td>0</td>\n      <td>0</td>\n    </tr>\n    <tr>\n      <th>8</th>\n      <td>DM208</td>\n      <td>1.0</td>\n      <td>89.166667</td>\n      <td>89.166667</td>\n      <td>89.166667</td>\n      <td>89.166667</td>\n      <td>89.166667</td>\n      <td>89.166667</td>\n      <td>89.166667</td>\n      <td>89.166667</td>\n      <td>...</td>\n      <td>0</td>\n      <td>0</td>\n      <td>0</td>\n      <td>0</td>\n      <td>0</td>\n      <td>0</td>\n      <td>0</td>\n      <td>0</td>\n      <td>0</td>\n      <td>0</td>\n    </tr>\n    <tr>\n      <th>9</th>\n      <td>DM209</td>\n      <td>1.0</td>\n      <td>336.600000</td>\n      <td>336.600000</td>\n      <td>336.600000</td>\n      <td>336.600000</td>\n      <td>336.600000</td>\n      <td>336.600000</td>\n      <td>336.600000</td>\n      <td>336.600000</td>\n      <td>...</td>\n      <td>0</td>\n      <td>0</td>\n      <td>0</td>\n      <td>0</td>\n      <td>0</td>\n      <td>0</td>\n      <td>0</td>\n      <td>0</td>\n      <td>0</td>\n      <td>0</td>\n    </tr>\n    <tr>\n      <th>10</th>\n      <td>DM210</td>\n      <td>1.0</td>\n      <td>89.600000</td>\n      <td>89.600000</td>\n      <td>89.600000</td>\n      <td>89.600000</td>\n      <td>89.600000</td>\n      <td>89.600000</td>\n      <td>89.600000</td>\n      <td>89.600000</td>\n      <td>...</td>\n      <td>0</td>\n      <td>0</td>\n      <td>0</td>\n      <td>0</td>\n      <td>0</td>\n      <td>0</td>\n      <td>0</td>\n      <td>0</td>\n      <td>0</td>\n      <td>0</td>\n    </tr>\n    <tr>\n      <th>11</th>\n      <td>DM211</td>\n      <td>1.0</td>\n      <td>320.400000</td>\n      <td>320.400000</td>\n      <td>320.400000</td>\n      <td>320.400000</td>\n      <td>320.400000</td>\n      <td>320.400000</td>\n      <td>320.400000</td>\n      <td>320.400000</td>\n      <td>...</td>\n      <td>0</td>\n      <td>0</td>\n      <td>0</td>\n      <td>0</td>\n      <td>0</td>\n      <td>0</td>\n      <td>0</td>\n      <td>0</td>\n      <td>0</td>\n      <td>0</td>\n    </tr>\n    <tr>\n      <th>12</th>\n      <td>Ctrl01</td>\n      <td>0.0</td>\n      <td>230.800000</td>\n      <td>230.800000</td>\n      <td>230.800000</td>\n      <td>230.800000</td>\n      <td>230.800000</td>\n      <td>230.800000</td>\n      <td>230.800000</td>\n      <td>230.800000</td>\n      <td>...</td>\n      <td>0</td>\n      <td>0</td>\n      <td>0</td>\n      <td>0</td>\n      <td>0</td>\n      <td>0</td>\n      <td>0</td>\n      <td>0</td>\n      <td>0</td>\n      <td>0</td>\n    </tr>\n    <tr>\n      <th>13</th>\n      <td>Ctrl02</td>\n      <td>0.0</td>\n      <td>159.600000</td>\n      <td>159.600000</td>\n      <td>159.600000</td>\n      <td>159.600000</td>\n      <td>159.600000</td>\n      <td>159.600000</td>\n      <td>159.600000</td>\n      <td>159.600000</td>\n      <td>...</td>\n      <td>0</td>\n      <td>0</td>\n      <td>0</td>\n      <td>0</td>\n      <td>0</td>\n      <td>0</td>\n      <td>0</td>\n      <td>0</td>\n      <td>0</td>\n      <td>0</td>\n    </tr>\n    <tr>\n      <th>14</th>\n      <td>Ctrl03</td>\n      <td>0.0</td>\n      <td>327.000000</td>\n      <td>327.000000</td>\n      <td>327.000000</td>\n      <td>327.000000</td>\n      <td>327.000000</td>\n      <td>327.000000</td>\n      <td>327.000000</td>\n      <td>327.000000</td>\n      <td>...</td>\n      <td>0</td>\n      <td>0</td>\n      <td>0</td>\n      <td>0</td>\n      <td>0</td>\n      <td>0</td>\n      <td>0</td>\n      <td>0</td>\n      <td>0</td>\n      <td>0</td>\n    </tr>\n    <tr>\n      <th>15</th>\n      <td>Ctrl04</td>\n      <td>0.0</td>\n      <td>94.400000</td>\n      <td>94.400000</td>\n      <td>94.400000</td>\n      <td>94.400000</td>\n      <td>94.400000</td>\n      <td>94.400000</td>\n      <td>94.400000</td>\n      <td>94.400000</td>\n      <td>...</td>\n      <td>0</td>\n      <td>0</td>\n      <td>0</td>\n      <td>0</td>\n      <td>0</td>\n      <td>0</td>\n      <td>0</td>\n      <td>0</td>\n      <td>0</td>\n      <td>0</td>\n    </tr>\n    <tr>\n      <th>16</th>\n      <td>Ctrl05</td>\n      <td>0.0</td>\n      <td>71.833333</td>\n      <td>71.833333</td>\n      <td>71.833333</td>\n      <td>71.833333</td>\n      <td>71.833333</td>\n      <td>71.833333</td>\n      <td>71.833333</td>\n      <td>71.833333</td>\n      <td>...</td>\n      <td>0</td>\n      <td>0</td>\n      <td>0</td>\n      <td>0</td>\n      <td>0</td>\n      <td>0</td>\n      <td>0</td>\n      <td>0</td>\n      <td>0</td>\n      <td>0</td>\n    </tr>\n    <tr>\n      <th>17</th>\n      <td>Ctrl06</td>\n      <td>0.0</td>\n      <td>325.600000</td>\n      <td>325.600000</td>\n      <td>325.600000</td>\n      <td>325.600000</td>\n      <td>325.600000</td>\n      <td>325.600000</td>\n      <td>325.600000</td>\n      <td>325.600000</td>\n      <td>...</td>\n      <td>0</td>\n      <td>0</td>\n      <td>0</td>\n      <td>0</td>\n      <td>0</td>\n      <td>0</td>\n      <td>0</td>\n      <td>0</td>\n      <td>0</td>\n      <td>0</td>\n    </tr>\n    <tr>\n      <th>18</th>\n      <td>Ctrl07</td>\n      <td>0.0</td>\n      <td>116.000000</td>\n      <td>116.000000</td>\n      <td>116.000000</td>\n      <td>116.000000</td>\n      <td>116.000000</td>\n      <td>116.000000</td>\n      <td>116.000000</td>\n      <td>116.000000</td>\n      <td>...</td>\n      <td>0</td>\n      <td>0</td>\n      <td>0</td>\n      <td>0</td>\n      <td>0</td>\n      <td>0</td>\n      <td>0</td>\n      <td>0</td>\n      <td>0</td>\n      <td>0</td>\n    </tr>\n    <tr>\n      <th>19</th>\n      <td>Ctrl08</td>\n      <td>0.0</td>\n      <td>272.500000</td>\n      <td>272.500000</td>\n      <td>272.500000</td>\n      <td>272.500000</td>\n      <td>272.500000</td>\n      <td>272.500000</td>\n      <td>272.500000</td>\n      <td>272.500000</td>\n      <td>...</td>\n      <td>0</td>\n      <td>0</td>\n      <td>0</td>\n      <td>0</td>\n      <td>0</td>\n      <td>0</td>\n      <td>0</td>\n      <td>0</td>\n      <td>0</td>\n      <td>0</td>\n    </tr>\n    <tr>\n      <th>20</th>\n      <td>Ctrl09</td>\n      <td>0.0</td>\n      <td>156.166667</td>\n      <td>156.166667</td>\n      <td>156.166667</td>\n      <td>156.166667</td>\n      <td>156.166667</td>\n      <td>156.166667</td>\n      <td>156.166667</td>\n      <td>156.166667</td>\n      <td>...</td>\n      <td>0</td>\n      <td>0</td>\n      <td>0</td>\n      <td>0</td>\n      <td>0</td>\n      <td>0</td>\n      <td>0</td>\n      <td>0</td>\n      <td>0</td>\n      <td>0</td>\n    </tr>\n  </tbody>\n</table>\n<p>21 rows × 3162 columns</p>\n</div>"
     },
     "execution_count": 4,
     "metadata": {},
     "output_type": "execute_result"
    }
   ],
   "source": [
    "RamanInnerArmDF"
   ],
   "metadata": {
    "collapsed": false,
    "pycharm": {
     "name": "#%%\n"
    }
   }
  },
  {
   "cell_type": "code",
   "execution_count": 5,
   "outputs": [],
   "source": [
    "\"\"\"Se definen las funciones que se usarán para el preprocesamiento de los datos\"\"\"\n",
    "\n",
    "# Función que elimina la primera columna y se recortan los espectros a la región de 800-1800 cm^-1. Este rango fue seleccionado para que coincidiera con la región espectral de los productos finales de glicación avanzada (AGE). Posteriormente, se elimina la primera fila, que contiene los números de onda\n",
    "def prepare_df (raman_df):\n",
    "    raman_df = raman_df.drop([\"patientID\"], axis=1)\n",
    "    raman_df = raman_df.drop(raman_df.iloc[:, 1:801], axis=1)\n",
    "    raman_df = raman_df.drop(raman_df.iloc[:, 1002:], axis=1)\n",
    "    raman_df = raman_df.drop([0])\n",
    "    return raman_df\n",
    "\n",
    "# Función imprime todos los espectros de un data frame para analizarlos\n",
    "def print_raman_shift (raman_df):\n",
    "    for index, paciente in raman_df.iterrows():\n",
    "            plot_df(x=list(range(800, 1801)), y=paciente[1:], title=f'Paciente ' + f'DM2 {index}' if paciente[\"has_DM2\"] == 1 else f'Ctrl {index}', color='tab:red' if paciente[\"has_DM2\"] == 1 else 'tab:blue')\n",
    "\n",
    "# Función que comparan dos formas de eliminar la fluorescencia, con IModPoly() y ZhangFit() de la librería BaselineRemoval, observada en los espectros Raman\n",
    "def compare_remove_fluorescence_functions (raman_df):\n",
    "    for index, paciente in raman_df.iterrows():\n",
    "        plot_df_compare(x=list(range(800, 1801)), y_1=BaselineRemoval(paciente[1:].tolist()).IModPoly(2), y_2=BaselineRemoval(paciente[1:].tolist()).ZhangFit(), title=f'Paciente' + f'DM2 {index}' if paciente[\"has_DM2\"] == 1 else f'Ctrl {index}')\n",
    "\n",
    "# Función que elimina la fluorescencia con ZhangFit()\n",
    "def remove_fluorescence (raman_df):\n",
    "    raman_df_transform = raman_df.copy()\n",
    "    for index, paciente in raman_df_transform.iterrows():\n",
    "        raman_df_transform.iloc[index-1,1:] = BaselineRemoval(paciente[1:].tolist()).ZhangFit()\n",
    "    return raman_df_transform\n",
    "\n",
    "# Función que calcula la media de los espectros Raman agrupados pacientes con DM2 y Ctrl para compararlos en una gráfica\n",
    "def compare_means_raman (raman_df):\n",
    "    raman_df_dm2_mean = raman_df.loc[raman_df['has_DM2'] == 1].iloc[:,1:].mean()\n",
    "    raman_df_ctrl_mean = raman_df.loc[raman_df['has_DM2'] == 0].iloc[:,1:].mean()\n",
    "    plot_df_compare(x=list(range(800, 1801)), y_1=raman_df_dm2_mean, y_2=raman_df_ctrl_mean, title='Media DM2 vs Ctrl')\n",
    "\n",
    "# Función que estandariza los datos restando la media y dividiendo por la desviación estándar con StandardScaler()\n",
    "def standardize (raman_df):\n",
    "    scaler = StandardScaler()\n",
    "    raman_df.iloc[:,1:] = scaler.fit_transform(raman_df.iloc[:,1:])\n",
    "    return raman_df\n",
    "\n",
    "# Función que aplica PCA y muestra un una gráfica el acumulado de varianza explicada en las nuevas dimensiones\n",
    "def apply_pca (raman_df):\n",
    "    pca=PCA(.95)\n",
    "    pca.fit(raman_df.iloc[:,1:])\n",
    "    raman_df_pca = pca.transform(raman_df.iloc[:,1:])\n",
    "    n_pca = raman_df_pca.shape[1]\n",
    "    print(\"Dimensiones de X_pca\", raman_df_pca.shape)\n",
    "    print(pca.explained_variance_ratio_)\n",
    "    print('Varianza explicada con 5 componentes:',sum(pca.explained_variance_ratio_[0:5]))\n",
    "\n",
    "    plt.plot(np.cumsum(pca.explained_variance_ratio_))\n",
    "    plt.xlabel('Número de componentes')\n",
    "    plt.ylabel('Varianza explicada acumulada')\n",
    "    plt.show()\n",
    "\n",
    "    # Se crea el data frame con el número componentes principales obtenidas\n",
    "    index_pca = []\n",
    "    for i in range(n_pca):\n",
    "        index_pca.append(f'PC{i+1}')\n",
    "\n",
    "    raman_df_pca = pd.DataFrame(raman_df_pca, columns=index_pca)\n",
    "    # Para el correcto funcionamiento, se cambia el inicio del index a 1\n",
    "    raman_df_pca.index += 1\n",
    "    #S e inserta el target\n",
    "    raman_df_pca.insert(loc = 0,\n",
    "              column = 'has_DM2',\n",
    "              value = raman_df['has_DM2'].loc[1:])\n",
    "    return raman_df_pca\n",
    "\n",
    "# Función que divide el data frame en conjuntos de train 80% y test 20%\n",
    "def raman_train_test_split(raman_df):\n",
    "    return train_test_split(raman_df.iloc[:,1:], raman_df['has_DM2'], test_size=0.1)\n",
    "\n",
    "# Función que realiza todas las funciones de preprocesamiento\n",
    "def df_preprocessing (raman_df):\n",
    "    raman_df = prepare_df(raman_df)\n",
    "    raman_df = remove_fluorescence(raman_df)\n",
    "    raman_df = standardize(raman_df)\n",
    "    return raman_df\n",
    "\n",
    "# Función que realiza todas las funciones de preprocesamiento además de aplicar PCA\n",
    "def df_preprocessing_pca (raman_df):\n",
    "    raman_df = prepare_df(raman_df)\n",
    "    raman_df = remove_fluorescence(raman_df)\n",
    "    raman_df = standardize(raman_df)\n",
    "    raman_df = apply_pca(raman_df)\n",
    "    return raman_df"
   ],
   "metadata": {
    "collapsed": false,
    "pycharm": {
     "name": "#%%\n"
    }
   }
  },
  {
   "cell_type": "code",
   "execution_count": 6,
   "outputs": [],
   "source": [
    "\"\"\" Se definen las funciones para calcular y visualizar las métricas\"\"\"\n",
    "\n",
    "# Función que calcula las métricas utilizando sklearn\n",
    "def get_metrics(y_test, y_pred):\n",
    "\n",
    "    conf_matrix = confusion_matrix(y_test, y_pred)\n",
    "    accuracy = accuracy_score(y_test, y_pred)\n",
    "    precision = precision_score(y_test, y_pred)\n",
    "    recall = recall_score(y_test, y_pred)\n",
    "    f1 = f1_score(y_test, y_pred)\n",
    "    return {'conf_matrix' : conf_matrix, 'accuracy' : accuracy, 'precision' : precision, 'recall' : recall, 'f1' : f1}\n",
    "\n",
    "# Función que calcula las métricas al final de las iteraciones\n",
    "def get_final_metrics(iter_metrics):\n",
    "    conf_matrix = sum(metrics_i['conf_matrix'] for metrics_i in iter_metrics)\n",
    "    accuracy = float(sum(metrics_i['accuracy'] for metrics_i in iter_metrics)) / len(iter_metrics)\n",
    "    precision = float(sum(metrics_i['precision'] for metrics_i in iter_metrics)) / len(iter_metrics)\n",
    "    recall = float(sum(metrics_i['recall'] for metrics_i in iter_metrics)) / len(iter_metrics)\n",
    "    f1 = float(sum(metrics_i['f1'] for metrics_i in iter_metrics)) / len(iter_metrics)\n",
    "    return {'conf_matrix' : conf_matrix, 'accuracy' : accuracy, 'precision' : precision, 'recall' : recall, 'f1' : f1}\n",
    "\n",
    "# Función que pinta la matriz de confusión y métricas\n",
    "def plot_metrics(metrics, title):\n",
    "\n",
    "    #Código de matplotlib para graficar\n",
    "    plt.figure(figsize=(3, 3))\n",
    "    matrix = pd.DataFrame(metrics['conf_matrix'],\n",
    "                          columns=[\"0 : Ctrl\", \"1 : DM2\"])\n",
    "    plt.matshow(matrix, cmap=\"Blues\", vmin=0, vmax=10, fignum=1)\n",
    "    plt.title(\"Predichas\")\n",
    "    plt.ylabel(\"Reales\")\n",
    "    plt.xticks(range(len(matrix.columns)), matrix.columns, rotation=45)\n",
    "    plt.yticks(range(len(matrix.columns)), matrix.columns)\n",
    "    labels = ((\"Verdaderos\\nnegativos\", \"Falsos\\npositivos\"),\n",
    "                 (\"Falsos\\nnegativos\", \"Verdaderos\\npositivos\"))\n",
    "    for i in range(len(matrix.columns)):\n",
    "        for j in range(len(matrix.columns)):\n",
    "            plt.text(i, j + 0.14, str(matrix.iloc[i, j]),\n",
    "                     fontsize=30, ha=\"center\", va=\"center\")\n",
    "            plt.text(i, j - 0.25, labels[i][j],\n",
    "                     fontsize=11.5, ha=\"center\", va=\"center\")\n",
    "    plt.text(1.60, -0.30, title, fontsize=25, c=\"red\")\n",
    "    plt.text(2.1, 0.10, \"Accuracy: %0.2f\" % metrics['accuracy'], fontsize=20)\n",
    "    plt.text(2.1, 0.40, \"Precision: %0.2f\" % metrics['precision'], fontsize=20)\n",
    "    plt.text(2.1, 0.70, \"Recall: %0.2f\" % metrics['recall'], fontsize=20)\n",
    "    plt.text(2.1, 1.00, \"F1: %0.2f\" % metrics['f1'], fontsize=20)\n",
    "    plt.show()"
   ],
   "metadata": {
    "collapsed": false,
    "pycharm": {
     "name": "#%%\n"
    }
   }
  },
  {
   "cell_type": "code",
   "execution_count": 7,
   "outputs": [],
   "source": [
    "# Función que realiza 1000 entrenamientos para obtener las métricas\n",
    "def iter_model (raman_df, model, title):\n",
    "    start_time = time.time()\n",
    "    # Métricas por iteración\n",
    "    iter_metrics = []\n",
    "\n",
    "    iter_no = 1\n",
    "    for i in range(1000):\n",
    "        x_train, x_test, y_train, y_test = raman_train_test_split(raman_df)\n",
    "\n",
    "        # Se entrena el modelo\n",
    "        model.fit(x_train, y_train)\n",
    "\n",
    "        # Se obtiene la predicción y las métricas\n",
    "        y_pred = model.predict(x_test, verbose=0)\n",
    "        metric = get_metrics(y_test, y_pred.round())\n",
    "        iter_metrics.append(metric)\n",
    "\n",
    "        iter_no = iter_no + 1\n",
    "\n",
    "    # Se pintan la media de las métricas y la matriz de confusión\n",
    "    final_metrics = get_final_metrics(iter_metrics)\n",
    "    print('------------------------------------------------------------------------')\n",
    "    print('Accuracy por iteración')\n",
    "    for index, metrics_i in enumerate(iter_metrics):\n",
    "      print('------------------------------------------------------------------------')\n",
    "      print(f\"> Iteración {index + 1} - Accuracy: {metrics_i['accuracy']}\")\n",
    "    print(f'Tiempo transcurrido (iter_model_rna): {timedelta(seconds=(time.time() - start_time))}')\n",
    "    print('------------------------------------------------------------------------')\n",
    "    plot_metrics(final_metrics, title)\n",
    "    return final_metrics"
   ],
   "metadata": {
    "collapsed": false,
    "pycharm": {
     "name": "#%%\n"
    }
   }
  },
  {
   "cell_type": "code",
   "execution_count": 8,
   "outputs": [],
   "source": [
    "RamanEarLobeDF_preprocessed = df_preprocessing(RamanEarLobeDF)\n",
    "RamanInnerArmDF_preprocessed = df_preprocessing(RamanInnerArmDF)\n",
    "RamanThumbNailDF_preprocessed = df_preprocessing(RamanThumbNailDF)\n",
    "RamanVeinDF_preprocessed = df_preprocessing(RamanVeinDF)\n",
    "RamanDF_preprocessed = {'EarLobe' : RamanEarLobeDF_preprocessed,\n",
    "                        'InnerArm' : RamanInnerArmDF_preprocessed,\n",
    "                        'ThumbNail' : RamanThumbNailDF_preprocessed,\n",
    "                        'Vein' : RamanVeinDF_preprocessed}"
   ],
   "metadata": {
    "collapsed": false,
    "pycharm": {
     "name": "#%%\n"
    }
   }
  },
  {
   "cell_type": "code",
   "execution_count": 9,
   "outputs": [
    {
     "name": "stdout",
     "output_type": "stream",
     "text": [
      "Dimensiones de X_pca (20, 12)\n",
      "[0.58652943 0.15351859 0.06862393 0.03510903 0.02383198 0.01738268\n",
      " 0.01552876 0.01431898 0.01299144 0.01133923 0.0102168  0.00891572]\n",
      "Varianza explicada con 5 componentes: 0.8676129600227221\n"
     ]
    },
    {
     "data": {
      "text/plain": "<Figure size 432x288 with 1 Axes>",
      "image/png": "[encoded data removed]"
     },
     "metadata": {
      "needs_background": "light"
     },
     "output_type": "display_data"
    },
    {
     "name": "stdout",
     "output_type": "stream",
     "text": [
      "Dimensiones de X_pca (20, 12)\n",
      "[0.64469483 0.11374171 0.05166191 0.03316092 0.02153084 0.01568177\n",
      " 0.01330198 0.01239332 0.0118334  0.01117849 0.01093558 0.01003453]\n",
      "Varianza explicada con 5 componentes: 0.8647902032371606\n"
     ]
    },
    {
     "data": {
      "text/plain": "<Figure size 432x288 with 1 Axes>",
      "image/png": "[encoded data removed]"
     },
     "metadata": {
      "needs_background": "light"
     },
     "output_type": "display_data"
    },
    {
     "name": "stdout",
     "output_type": "stream",
     "text": [
      "Dimensiones de X_pca (20, 11)\n",
      "[0.6677955  0.09513463 0.06292486 0.04086866 0.02908171 0.01630976\n",
      " 0.01110785 0.01000491 0.00868286 0.00786968 0.00756529]\n",
      "Varianza explicada con 5 componentes: 0.8958053649254455\n"
     ]
    },
    {
     "data": {
      "text/plain": "<Figure size 432x288 with 1 Axes>",
      "image/png": "[encoded data removed]"
     },
     "metadata": {
      "needs_background": "light"
     },
     "output_type": "display_data"
    },
    {
     "name": "stdout",
     "output_type": "stream",
     "text": [
      "Dimensiones de X_pca (20, 14)\n",
      "[0.54342802 0.14903546 0.07064525 0.03598282 0.02956338 0.01923196\n",
      " 0.0170476  0.01609422 0.01583872 0.01500818 0.01345601 0.01251607\n",
      " 0.01207391 0.01064604]\n",
      "Varianza explicada con 5 componentes: 0.8286549235562187\n"
     ]
    },
    {
     "data": {
      "text/plain": "<Figure size 432x288 with 1 Axes>",
      "image/png": "[encoded data removed]"
     },
     "metadata": {
      "needs_background": "light"
     },
     "output_type": "display_data"
    }
   ],
   "source": [
    "RamanEarLobeDF_preprocessed_pca = df_preprocessing_pca(RamanEarLobeDF)\n",
    "RamanInnerArmDF_preprocessed_pca = df_preprocessing_pca(RamanInnerArmDF)\n",
    "RamanThumbNailDF_preprocessed_pca = df_preprocessing_pca(RamanThumbNailDF)\n",
    "RamanVeinDF_preprocessed_pca = df_preprocessing_pca(RamanVeinDF)\n",
    "RamanDF_preprocessed_pca = {'EarLobe' : RamanEarLobeDF_preprocessed_pca,\n",
    "                            'InnerArm' : RamanInnerArmDF_preprocessed_pca,\n",
    "                            'ThumbNail' : RamanThumbNailDF_preprocessed_pca,\n",
    "                            'Vein' : RamanVeinDF_preprocessed_pca}"
   ],
   "metadata": {
    "collapsed": false,
    "pycharm": {
     "name": "#%%\n"
    }
   }
  },
  {
   "cell_type": "markdown",
   "source": [
    "### RNA"
   ],
   "metadata": {
    "collapsed": false,
    "pycharm": {
     "name": "#%% md\n"
    }
   }
  },
  {
   "cell_type": "code",
   "execution_count": 10,
   "outputs": [],
   "source": [
    "# Modelo para buscar la los hiperparámetros óptimos, requerido por KerasClassifier\n",
    "def create_model(learning_rate=0.01, momentum=0, kernel_initializer='glorot_uniform', activation='sigmoid'):\n",
    "    model = keras.Sequential()\n",
    "    model.add(layers.Dense(14, kernel_initializer=kernel_initializer, activation=activation))\n",
    "    model.add(layers.Dense(1, kernel_initializer=kernel_initializer, activation='sigmoid'))\n",
    "\n",
    "    optimizer = SGD(learning_rate=learning_rate, momentum=momentum)\n",
    "    model.compile(loss='binary_crossentropy', optimizer=optimizer, metrics=['accuracy'])\n",
    "    return model"
   ],
   "metadata": {
    "collapsed": false,
    "pycharm": {
     "name": "#%%\n"
    }
   }
  },
  {
   "cell_type": "code",
   "execution_count": 11,
   "outputs": [],
   "source": [
    "\"\"\"Se crean las funciones que realizan búsquedas en rejilla para obtener los hiperparámetros óptimos\"\"\"\n",
    "def best_epochs_bach_size (x_train, y_train):\n",
    "    start_time = time.time()\n",
    "    model = KerasClassifier(build_fn=create_model, verbose=0)\n",
    "    # Se define la rejilla con los hiperparámetros\n",
    "    batch_size = [2, 5, 10]\n",
    "    epochs = [50, 100, 500]\n",
    "    param_grid = dict(batch_size=batch_size, epochs=epochs)\n",
    "    grid = GridSearchCV(estimator=model, param_grid=param_grid, n_jobs=-1, cv=LeaveOneOut())\n",
    "    grid_result = grid.fit(x_train, y_train)\n",
    "\n",
    "    # Resultados\n",
    "    print(\"Best accuracy: %f using %s\" % (grid_result.best_score_, grid_result.best_params_))\n",
    "\n",
    "    best_epochs = grid_result.best_params_['epochs']\n",
    "    best_batch = grid_result.best_params_['batch_size']\n",
    "    print(f'Tiempo transcurrido: {timedelta(seconds=(time.time() - start_time))}')\n",
    "    print('------------------------------------------------------------------------')\n",
    "    return best_epochs, best_batch\n",
    "\n",
    "def best_learning_rate_momentum (x_train, y_train, epochs, batch_size):\n",
    "    start_time = time.time()\n",
    "    model = KerasClassifier(build_fn=create_model, epochs=epochs, batch_size=batch_size, verbose=0)\n",
    "    # Se define la rejilla con los hiperparámetros\n",
    "    learning_rate = [0.001, 0.01, 0.1]\n",
    "    momentum = [0.4, 0.6, 0.8, 0.9]\n",
    "    param_grid = dict(learning_rate=learning_rate, momentum=momentum)\n",
    "    grid = GridSearchCV(estimator=model, param_grid=param_grid, n_jobs=-1, cv=LeaveOneOut())\n",
    "    grid_result = grid.fit(x_train, y_train)\n",
    "\n",
    "    # Resultados\n",
    "    print(\"Best accuracy: %f using %s\" % (grid_result.best_score_, grid_result.best_params_))\n",
    "\n",
    "    best_learning_rate = grid_result.best_params_['learning_rate']\n",
    "    best_momentum = grid_result.best_params_['momentum']\n",
    "    print(f'Tiempo transcurrido: {timedelta(seconds=(time.time() - start_time))}')\n",
    "    print('------------------------------------------------------------------------')\n",
    "    return best_learning_rate, best_momentum\n",
    "\n",
    "def best_kernel_initializer (x_train, y_train, epochs, batch_size, learning_rate, momentum):\n",
    "    start_time = time.time()\n",
    "    model = KerasClassifier(build_fn=create_model, learning_rate=learning_rate, momentum=momentum, epochs=epochs, batch_size=batch_size, verbose=0)\n",
    "    # Se define la rejilla con los hiperparámetros\n",
    "    kernel_initializer = ['uniform', 'lecun_uniform', 'normal', 'glorot_normal', 'glorot_uniform', 'he_normal', 'he_uniform']\n",
    "    param_grid = dict(kernel_initializer=kernel_initializer)\n",
    "    grid = GridSearchCV(estimator=model, param_grid=param_grid, n_jobs=-1, cv=LeaveOneOut())\n",
    "    grid_result = grid.fit(x_train, y_train)\n",
    "\n",
    "    # Resultados\n",
    "    print(\"Best accuracy: %f using %s\" % (grid_result.best_score_, grid_result.best_params_))\n",
    "\n",
    "    best_kernel_init = grid_result.best_params_['kernel_initializer']\n",
    "    print(f'Tiempo transcurrido: {timedelta(seconds=(time.time() - start_time))}')\n",
    "    print('------------------------------------------------------------------------')\n",
    "    return best_kernel_init\n",
    "\n",
    "def best_activation (x_train, y_train, epochs, batch_size, learning_rate, momentum, kernel_initializer):\n",
    "    start_time = time.time()\n",
    "    model = KerasClassifier(build_fn=create_model, learning_rate=learning_rate, momentum=momentum, kernel_initializer=kernel_initializer, epochs=epochs, batch_size=batch_size, verbose=0)\n",
    "    # Se define la rejilla con los hiperparámetros\n",
    "    activation = ['softmax', 'softplus', 'softsign', 'relu', 'tanh', 'sigmoid', 'hard_sigmoid', 'linear']\n",
    "    param_grid = dict(activation=activation)\n",
    "    grid = GridSearchCV(estimator=model, param_grid=param_grid, n_jobs=-1, cv=LeaveOneOut())\n",
    "    grid_result = grid.fit(x_train, y_train)\n",
    "\n",
    "    # Resultados\n",
    "    print(\"Best accuracy: %f using %s\" % (grid_result.best_score_, grid_result.best_params_))\n",
    "\n",
    "    best_activ = grid_result.best_params_['activation']\n",
    "    print(f'Tiempo transcurrido: {timedelta(seconds=(time.time() - start_time))}')\n",
    "    print('------------------------------------------------------------------------')\n",
    "    return best_activ\n",
    "\n",
    "# Se engloban todas las funciones que obtienen los hiperparámetros\n",
    "def best_hyperparameters_rna (x, y):\n",
    "    start_time = time.time()\n",
    "    best_epochs, best_batch = best_epochs_bach_size(x, y)\n",
    "    best_learning_rate, best_momentum = best_learning_rate_momentum(x, y, best_epochs, best_batch)\n",
    "    best_kernel_init = best_kernel_initializer(x, y, best_epochs, best_batch, best_learning_rate, best_momentum)\n",
    "    best_activ = best_activation(x, y, best_epochs, best_batch, best_learning_rate, best_momentum, best_kernel_init)\n",
    "    print(f'Tiempo transcurrido (best_hyperparameters_rna): {timedelta(seconds=(time.time() - start_time))}')\n",
    "    print('------------------------------------------------------------------------')\n",
    "    return {'best_epochs' : best_epochs,\n",
    "            'best_batch' : best_batch,\n",
    "            'best_learning_rate' : best_learning_rate,\n",
    "            'best_momentum' : best_momentum,\n",
    "            'best_kernel_init' : best_kernel_init,\n",
    "            'best_activ' : best_activ}"
   ],
   "metadata": {
    "collapsed": false,
    "pycharm": {
     "name": "#%%\n"
    }
   }
  },
  {
   "cell_type": "code",
   "execution_count": 12,
   "outputs": [],
   "source": [
    "# Se crea la función que obtiene los mejores hiperparámetros en 10 iteraciones\n",
    "def hyperparameters_model_rna (raman_df):\n",
    "    start_time = time.time()\n",
    "    # Hiperparámetros por iteración\n",
    "    iter_hyperparameters = []\n",
    "\n",
    "    for i in range(1,10):\n",
    "        iter_hyperparameters.append(best_hyperparameters_rna(raman_df.iloc[:,1:], raman_df['has_DM2']))\n",
    "\n",
    "    epochs = []\n",
    "    batch = []\n",
    "    learning_rate = []\n",
    "    momentum = []\n",
    "    kernel_init = []\n",
    "    activ = []\n",
    "\n",
    "    print('------------------------------------------------------------------------')\n",
    "    print('Mejores hiperparámetros por iteración')\n",
    "    for index, hyperparameters_i in enumerate(iter_hyperparameters):\n",
    "        print('------------------------------------------------------------------------')\n",
    "        print(f\"> Iteración {index + 1} - hiperparámetros: {hyperparameters_i}\")\n",
    "        epochs.append(hyperparameters_i['best_epochs'])\n",
    "        batch.append(hyperparameters_i['best_batch'])\n",
    "        learning_rate.append(hyperparameters_i['best_learning_rate'])\n",
    "        momentum.append(hyperparameters_i['best_momentum'])\n",
    "        kernel_init.append(hyperparameters_i['best_kernel_init'])\n",
    "        activ.append(hyperparameters_i['best_activ'])\n",
    "    print('------------------------------------------------------------------------')\n",
    "    print('Mejores hiperparámetros finales')\n",
    "    print(f'best_epochs: {mode(epochs)}, best_batch : {mode(batch)}, best_learning_rate: {mode(learning_rate)}, best_momentum: {mode(momentum)}, best_kernel_init: {mode(kernel_init)}, best_activ: {mode(activ)}')\n",
    "    print(f'Tiempo transcurrido (hyperparameters_model_rna): {timedelta(seconds=(time.time() - start_time))}')\n",
    "    print('------------------------------------------------------------------------')\n",
    "    return {'best_epochs' : mode(epochs),\n",
    "            'best_batch' : mode(batch),\n",
    "            'best_learning_rate' : mode(learning_rate),\n",
    "            'best_momentum' : mode(momentum),\n",
    "            'best_kernel_init' : mode(kernel_init),\n",
    "            'best_activ' : mode(activ)}"
   ],
   "metadata": {
    "collapsed": false,
    "pycharm": {
     "name": "#%%\n"
    }
   }
  },
  {
   "cell_type": "code",
   "execution_count": 13,
   "outputs": [],
   "source": [
    "# Función que realiza 1000 entrenamientos para obtener las métricas\n",
    "def iter_model_rna (raman_df, hyperparams, title):\n",
    "    start_time = time.time()\n",
    "    # Métricas por iteración\n",
    "    iter_metrics = []\n",
    "\n",
    "    iter_no = 1\n",
    "    for i in range(1000):\n",
    "        x_train, x_test, y_train, y_test = raman_train_test_split(raman_df)\n",
    "\n",
    "        # Se crea el modelo\n",
    "        model_rna = create_model(hyperparams['best_learning_rate'], hyperparams['best_momentum'], hyperparams['best_kernel_init'], hyperparams['best_activ'])\n",
    "        model_rna.fit(x_train, y_train, epochs=hyperparams['best_epochs'], batch_size=hyperparams['best_batch'], verbose=0)\n",
    "\n",
    "        # Se obtiene la predicción y las métricas\n",
    "        y_pred = model_rna(x_test, verbose=0)\n",
    "        metric = get_metrics(y_test, y_pred.round())\n",
    "        iter_metrics.append(metric)\n",
    "\n",
    "        iter_no = iter_no + 1\n",
    "\n",
    "    # Se pintan la media de las métricas y la matriz de confusión\n",
    "    final_metrics = get_final_metrics(iter_metrics)\n",
    "    print('------------------------------------------------------------------------')\n",
    "    print('Accuracy por iteración')\n",
    "    for index, metrics_i in enumerate(iter_metrics):\n",
    "      print('------------------------------------------------------------------------')\n",
    "      print(f\"> Iteración {index + 1} - Accuracy: {metrics_i['accuracy']}\")\n",
    "    print(f'Tiempo transcurrido (iter_model_rna): {timedelta(seconds=(time.time() - start_time))}')\n",
    "    print('------------------------------------------------------------------------')\n",
    "    plot_metrics(final_metrics, title)\n",
    "    return final_metrics"
   ],
   "metadata": {
    "collapsed": false,
    "pycharm": {
     "name": "#%%\n"
    }
   }
  },
  {
   "cell_type": "code",
   "execution_count": 14,
   "outputs": [
    {
     "name": "stdout",
     "output_type": "stream",
     "text": [
      "Best accuracy: 0.600000 using {'batch_size': 2, 'epochs': 50}\n",
      "Tiempo transcurrido: 0:03:25.043194\n",
      "------------------------------------------------------------------------\n",
      "Best accuracy: 0.700000 using {'learning_rate': 0.001, 'momentum': 0.8}\n",
      "Tiempo transcurrido: 0:02:19.605282\n",
      "------------------------------------------------------------------------\n",
      "Best accuracy: 0.650000 using {'kernel_initializer': 'glorot_uniform'}\n",
      "Tiempo transcurrido: 0:01:21.433975\n",
      "------------------------------------------------------------------------\n",
      "Best accuracy: 0.650000 using {'activation': 'softsign'}\n",
      "Tiempo transcurrido: 0:01:42.229640\n",
      "------------------------------------------------------------------------\n",
      "Tiempo transcurrido (best_hyperparameters_rna): 0:08:48.312155\n",
      "------------------------------------------------------------------------\n",
      "Best accuracy: 0.650000 using {'batch_size': 5, 'epochs': 50}\n",
      "Tiempo transcurrido: 0:02:43.358469\n",
      "------------------------------------------------------------------------\n",
      "Best accuracy: 0.700000 using {'learning_rate': 0.001, 'momentum': 0.8}\n",
      "Tiempo transcurrido: 0:01:52.614115\n",
      "------------------------------------------------------------------------\n",
      "Best accuracy: 0.650000 using {'kernel_initializer': 'glorot_normal'}\n",
      "Tiempo transcurrido: 0:01:09.035173\n",
      "------------------------------------------------------------------------\n",
      "Best accuracy: 0.800000 using {'activation': 'tanh'}\n",
      "Tiempo transcurrido: 0:01:15.805298\n",
      "------------------------------------------------------------------------\n",
      "Tiempo transcurrido (best_hyperparameters_rna): 0:07:00.814042\n",
      "------------------------------------------------------------------------\n",
      "Best accuracy: 0.650000 using {'batch_size': 10, 'epochs': 500}\n",
      "Tiempo transcurrido: 0:02:51.192120\n",
      "------------------------------------------------------------------------\n",
      "Best accuracy: 0.650000 using {'learning_rate': 0.001, 'momentum': 0.4}\n",
      "Tiempo transcurrido: 0:04:11.532034\n",
      "------------------------------------------------------------------------\n",
      "Best accuracy: 0.750000 using {'kernel_initializer': 'he_uniform'}\n",
      "Tiempo transcurrido: 0:02:24.021532\n",
      "------------------------------------------------------------------------\n",
      "Best accuracy: 0.750000 using {'activation': 'sigmoid'}\n",
      "Tiempo transcurrido: 0:02:45.814938\n",
      "------------------------------------------------------------------------\n",
      "Tiempo transcurrido (best_hyperparameters_rna): 0:12:12.562613\n",
      "------------------------------------------------------------------------\n",
      "Best accuracy: 0.750000 using {'batch_size': 2, 'epochs': 50}\n",
      "Tiempo transcurrido: 0:03:00.829360\n",
      "------------------------------------------------------------------------\n",
      "Best accuracy: 0.700000 using {'learning_rate': 0.1, 'momentum': 0.9}\n",
      "Tiempo transcurrido: 0:02:23.101780\n",
      "------------------------------------------------------------------------\n",
      "Best accuracy: 0.700000 using {'kernel_initializer': 'normal'}\n",
      "Tiempo transcurrido: 0:01:21.318268\n",
      "------------------------------------------------------------------------\n",
      "Best accuracy: 0.650000 using {'activation': 'hard_sigmoid'}\n",
      "Tiempo transcurrido: 0:01:39.213241\n",
      "------------------------------------------------------------------------\n",
      "Tiempo transcurrido (best_hyperparameters_rna): 0:08:24.463645\n",
      "------------------------------------------------------------------------\n",
      "Best accuracy: 0.700000 using {'batch_size': 10, 'epochs': 500}\n",
      "Tiempo transcurrido: 0:02:50.524533\n",
      "------------------------------------------------------------------------\n",
      "Best accuracy: 0.650000 using {'learning_rate': 0.001, 'momentum': 0.4}\n",
      "Tiempo transcurrido: 0:04:15.432858\n",
      "------------------------------------------------------------------------\n",
      "Best accuracy: 0.700000 using {'kernel_initializer': 'he_uniform'}\n",
      "Tiempo transcurrido: 0:02:30.739734\n",
      "------------------------------------------------------------------------\n",
      "Best accuracy: 0.700000 using {'activation': 'softsign'}\n",
      "Tiempo transcurrido: 0:02:47.497843\n",
      "------------------------------------------------------------------------\n",
      "Tiempo transcurrido (best_hyperparameters_rna): 0:12:24.194967\n",
      "------------------------------------------------------------------------\n",
      "Best accuracy: 0.700000 using {'batch_size': 5, 'epochs': 50}\n",
      "Tiempo transcurrido: 0:02:52.946672\n",
      "------------------------------------------------------------------------\n",
      "Best accuracy: 0.750000 using {'learning_rate': 0.001, 'momentum': 0.6}\n",
      "Tiempo transcurrido: 0:01:46.920532\n",
      "------------------------------------------------------------------------\n",
      "Best accuracy: 0.700000 using {'kernel_initializer': 'glorot_uniform'}\n",
      "Tiempo transcurrido: 0:01:07.038308\n",
      "------------------------------------------------------------------------\n",
      "Best accuracy: 0.750000 using {'activation': 'softsign'}\n",
      "Tiempo transcurrido: 0:01:13.631632\n",
      "------------------------------------------------------------------------\n",
      "Tiempo transcurrido (best_hyperparameters_rna): 0:07:00.539137\n",
      "------------------------------------------------------------------------\n",
      "Best accuracy: 0.700000 using {'batch_size': 2, 'epochs': 50}\n",
      "Tiempo transcurrido: 0:02:56.208517\n",
      "------------------------------------------------------------------------\n",
      "Best accuracy: 0.700000 using {'learning_rate': 0.001, 'momentum': 0.6}\n",
      "Tiempo transcurrido: 0:02:25.403391\n",
      "------------------------------------------------------------------------\n",
      "Best accuracy: 0.600000 using {'kernel_initializer': 'he_uniform'}\n",
      "Tiempo transcurrido: 0:01:29.644417\n",
      "------------------------------------------------------------------------\n",
      "Best accuracy: 0.650000 using {'activation': 'softsign'}\n",
      "Tiempo transcurrido: 0:01:35.402548\n",
      "------------------------------------------------------------------------\n",
      "Tiempo transcurrido (best_hyperparameters_rna): 0:08:26.658873\n",
      "------------------------------------------------------------------------\n",
      "Best accuracy: 0.650000 using {'batch_size': 10, 'epochs': 100}\n",
      "Tiempo transcurrido: 0:02:43.274024\n",
      "------------------------------------------------------------------------\n",
      "Best accuracy: 0.650000 using {'learning_rate': 0.001, 'momentum': 0.6}\n",
      "Tiempo transcurrido: 0:01:55.207852\n",
      "------------------------------------------------------------------------\n",
      "Best accuracy: 0.700000 using {'kernel_initializer': 'glorot_normal'}\n",
      "Tiempo transcurrido: 0:01:07.634804\n",
      "------------------------------------------------------------------------\n",
      "Best accuracy: 0.650000 using {'activation': 'softplus'}\n",
      "Tiempo transcurrido: 0:01:17.757544\n",
      "------------------------------------------------------------------------\n",
      "Tiempo transcurrido (best_hyperparameters_rna): 0:07:03.874223\n",
      "------------------------------------------------------------------------\n",
      "Best accuracy: 0.650000 using {'batch_size': 5, 'epochs': 500}\n",
      "Tiempo transcurrido: 0:02:53.532916\n",
      "------------------------------------------------------------------------\n",
      "Best accuracy: 0.650000 using {'learning_rate': 0.001, 'momentum': 0.8}\n",
      "Tiempo transcurrido: 0:06:47.613760\n",
      "------------------------------------------------------------------------\n",
      "Best accuracy: 0.700000 using {'kernel_initializer': 'normal'}\n",
      "Tiempo transcurrido: 0:03:47.049965\n",
      "------------------------------------------------------------------------\n",
      "Best accuracy: 0.600000 using {'activation': 'softsign'}\n",
      "Tiempo transcurrido: 0:04:06.871785\n",
      "------------------------------------------------------------------------\n",
      "Tiempo transcurrido (best_hyperparameters_rna): 0:17:35.070421\n",
      "------------------------------------------------------------------------\n",
      "------------------------------------------------------------------------\n",
      "Mejores hiperparámetros por iteración\n",
      "------------------------------------------------------------------------\n",
      "> Iteración 1 - hiperparámetros: {'best_epochs': 50, 'best_batch': 2, 'best_learning_rate': 0.001, 'best_momentum': 0.8, 'best_kernel_init': 'glorot_uniform', 'best_activ': 'softsign'}\n",
      "------------------------------------------------------------------------\n",
      "> Iteración 2 - hiperparámetros: {'best_epochs': 50, 'best_batch': 5, 'best_learning_rate': 0.001, 'best_momentum': 0.8, 'best_kernel_init': 'glorot_normal', 'best_activ': 'tanh'}\n",
      "------------------------------------------------------------------------\n",
      "> Iteración 3 - hiperparámetros: {'best_epochs': 500, 'best_batch': 10, 'best_learning_rate': 0.001, 'best_momentum': 0.4, 'best_kernel_init': 'he_uniform', 'best_activ': 'sigmoid'}\n",
      "------------------------------------------------------------------------\n",
      "> Iteración 4 - hiperparámetros: {'best_epochs': 50, 'best_batch': 2, 'best_learning_rate': 0.1, 'best_momentum': 0.9, 'best_kernel_init': 'normal', 'best_activ': 'hard_sigmoid'}\n",
      "------------------------------------------------------------------------\n",
      "> Iteración 5 - hiperparámetros: {'best_epochs': 500, 'best_batch': 10, 'best_learning_rate': 0.001, 'best_momentum': 0.4, 'best_kernel_init': 'he_uniform', 'best_activ': 'softsign'}\n",
      "------------------------------------------------------------------------\n",
      "> Iteración 6 - hiperparámetros: {'best_epochs': 50, 'best_batch': 5, 'best_learning_rate': 0.001, 'best_momentum': 0.6, 'best_kernel_init': 'glorot_uniform', 'best_activ': 'softsign'}\n",
      "------------------------------------------------------------------------\n",
      "> Iteración 7 - hiperparámetros: {'best_epochs': 50, 'best_batch': 2, 'best_learning_rate': 0.001, 'best_momentum': 0.6, 'best_kernel_init': 'he_uniform', 'best_activ': 'softsign'}\n",
      "------------------------------------------------------------------------\n",
      "> Iteración 8 - hiperparámetros: {'best_epochs': 100, 'best_batch': 10, 'best_learning_rate': 0.001, 'best_momentum': 0.6, 'best_kernel_init': 'glorot_normal', 'best_activ': 'softplus'}\n",
      "------------------------------------------------------------------------\n",
      "> Iteración 9 - hiperparámetros: {'best_epochs': 500, 'best_batch': 5, 'best_learning_rate': 0.001, 'best_momentum': 0.8, 'best_kernel_init': 'normal', 'best_activ': 'softsign'}\n",
      "------------------------------------------------------------------------\n",
      "Mejores hiperparámetros finales\n",
      "best_epochs: 50,best_batch : 2,best_learning_rate: 0.001,best_momentum: 0.8,best_kernel_init: he_uniform,best_activ: softsign\n",
      "Tiempo transcurrido (hyperparameters_model_rna): 1:28:56.583006\n",
      "------------------------------------------------------------------------\n",
      "Tiempo transcurrido búsqueda de hiperparámetros (total): 1:28:56.604947\n"
     ]
    }
   ],
   "source": [
    "start_time_rna = time.time()\n",
    "hyperparameters_rna = hyperparameters_model_rna(RamanInnerArmDF_preprocessed)\n",
    "print(f'Tiempo transcurrido búsqueda de hiperparámetros (total): {timedelta(seconds=(time.time() - start_time_rna))}')"
   ],
   "metadata": {
    "collapsed": false,
    "pycharm": {
     "name": "#%%\n"
    }
   }
  },
  {
   "cell_type": "code",
   "execution_count": null,
   "outputs": [],
   "source": [
    "metrics_rna = {}\n",
    "for raman_key, raman_value in RamanDF_preprocessed.items():\n",
    "    start_time_rna = time.time()\n",
    "    metrics_rna[raman_key] = iter_model_rna(raman_value, hyperparameters_rna, 'Modelo RNA')\n",
    "    print(f'Tiempo transcurrido para las 1000 iteraciones (total): {timedelta(seconds=(time.time() - start_time_rna))}')"
   ],
   "metadata": {
    "collapsed": false,
    "pycharm": {
     "name": "#%%\n",
     "is_executing": true
    }
   }
  },
  {
   "cell_type": "code",
   "execution_count": null,
   "outputs": [],
   "source": [
    "best_modelRNA = create_model(hyperparameters_rna['best_learning_rate'], hyperparameters_rna['best_momentum'], hyperparameters_rna['best_kernel_init'], hyperparameters_rna['best_activ'])\n",
    "x_train_rna, y_train_rna, x_test_rna, y_test_rna = raman_train_test_split(RamanInnerArmDF_preprocessed)\n",
    "historyRNA = best_modelRNA.fit(x_train_rna, y_train_rna, epochs=hyperparameters_rna['best_epocs'], batch_size=hyperparameters_rna['best_batch'], verbose=1, validation_split=0.1)\n",
    "plot_acc(historyRNA), plot_loss(historyRNA)"
   ],
   "metadata": {
    "collapsed": false,
    "pycharm": {
     "name": "#%%\n"
    }
   }
  },
  {
   "cell_type": "code",
   "execution_count": null,
   "outputs": [],
   "source": [
    "best_modelRNA.summary()"
   ],
   "metadata": {
    "collapsed": false,
    "pycharm": {
     "name": "#%%\n"
    }
   }
  },
  {
   "cell_type": "markdown",
   "source": [
    "### SVM"
   ],
   "metadata": {
    "collapsed": false,
    "pycharm": {
     "name": "#%% md\n"
    }
   }
  },
  {
   "cell_type": "code",
   "execution_count": null,
   "outputs": [],
   "source": [
    "# Función que busca los hiperparámetros óptimos utilizando, en este caso, BayesSearchCV()\n",
    "def best_hyperparameters_svm (x, y):\n",
    "    start_time = time.time()\n",
    "\n",
    "    # Se define los hiperparámetros para la búsqueda\n",
    "    params = dict()\n",
    "    params['C'] = (1e-6, 100.0, 'log-uniform')\n",
    "    params['gamma'] = (1e-6, 100.0, 'log-uniform')\n",
    "    params['degree'] = (1,5)\n",
    "    params['kernel'] = ['linear', 'poly', 'rbf', 'sigmoid']\n",
    "\n",
    "    search = BayesSearchCV(estimator=SVC(), search_spaces=params, n_jobs=-1, cv=LeaveOneOut())\n",
    "    search.fit(x, y)\n",
    "\n",
    "    # Resultados\n",
    "    print(\"Best accuracy: %f using %s\" % (search.best_score_, search.best_params_))\n",
    "\n",
    "    best_c = search.best_params_['C']\n",
    "    best_gamma = search.best_params_['gamma']\n",
    "    best_degree = search.best_params_['degree']\n",
    "    best_kernel = search.best_params_['kernel']\n",
    "    print(f'Tiempo transcurrido (best_hyperparameters): {timedelta(seconds=(time.time() - start_time))}')\n",
    "    print('------------------------------------------------------------------------')\n",
    "    return {'best_c' : best_c,\n",
    "            'best_gamma' : best_gamma,\n",
    "            'best_degree' : best_degree,\n",
    "            'best_kernel' : best_kernel}"
   ],
   "metadata": {
    "collapsed": false,
    "pycharm": {
     "name": "#%%\n"
    }
   }
  },
  {
   "cell_type": "code",
   "execution_count": null,
   "outputs": [],
   "source": [
    "# Se crea la función que obtiene los mejores hiperparámetros en 10 iteraciones\n",
    "def hyperparameters_model_svm (raman_df):\n",
    "    start_time = time.time()\n",
    "    # Hiperparámetros por iteración\n",
    "    iter_hyperparameters = []\n",
    "\n",
    "    for i in range(1,10):\n",
    "        iter_hyperparameters.append(best_hyperparameters_svm(raman_df.iloc[:,1:], raman_df['has_DM2']))\n",
    "\n",
    "    c = []\n",
    "    gamma = []\n",
    "    degree = []\n",
    "    kernel = []\n",
    "\n",
    "    print('------------------------------------------------------------------------')\n",
    "    print('Mejores hiperparámetros por iteración')\n",
    "    for index, hyperparameters_i in enumerate(iter_hyperparameters):\n",
    "        print('------------------------------------------------------------------------')\n",
    "        print(f\"> Iteración {index + 1} - hiperparámetros: {hyperparameters_i}\")\n",
    "        c.append(hyperparameters_i['best_c'])\n",
    "        gamma.append(hyperparameters_i['best_gamma'])\n",
    "        degree.append(hyperparameters_i['best_degree'])\n",
    "        kernel.append(hyperparameters_i['best_kernel'])\n",
    "    print('------------------------------------------------------------------------')\n",
    "    print('Mejores hiperparámetros finales')\n",
    "    print(f'C: {mode(c)}, gamma : {mode(gamma)}, degree: {mode(degree)}, kernel: {mode(kernel)}')\n",
    "    print(f'Tiempo transcurrido (hyperparameters_model_rna): {timedelta(seconds=(time.time() - start_time))}')\n",
    "    print('------------------------------------------------------------------------')\n",
    "    return {'best_c' : mode(c),\n",
    "            'best_gamma' : mode(gamma),\n",
    "            'best_degree' : mode(degree),\n",
    "            'best_kernel' : mode(kernel)}"
   ],
   "metadata": {
    "collapsed": false,
    "pycharm": {
     "name": "#%%\n"
    }
   }
  },
  {
   "cell_type": "code",
   "execution_count": null,
   "outputs": [],
   "source": [
    "start_time_svm = time.time()\n",
    "hyperparameters_svm = hyperparameters_model_svm(RamanInnerArmDF_preprocessed)\n",
    "print(f'Tiempo transcurrido búsqueda de hiperparámetros (total): {timedelta(seconds=(time.time() - start_time_svm))}')"
   ],
   "metadata": {
    "collapsed": false,
    "pycharm": {
     "name": "#%%\n"
    }
   }
  },
  {
   "cell_type": "code",
   "execution_count": null,
   "outputs": [],
   "source": [
    "metrics_svm = {}\n",
    "for raman_key, raman_value in RamanDF_preprocessed.items():\n",
    "    start_time_svm = time.time()\n",
    "    modelSVM = SVC(C=hyperparameters_svm['best_c'], gamma=hyperparameters_svm['best_gamma'], degree=hyperparameters_svm['best_degree'], kernel=hyperparameters_svm['best_kernel'])\n",
    "    metrics_svm[raman_key] = iter_model(raman_value, modelSVM, 'Modelo SVM con PCA')\n",
    "    print(f'Tiempo transcurrido para las 1000 iteraciones (total): {timedelta(seconds=(time.time() - start_time_svm))}')"
   ],
   "metadata": {
    "collapsed": false,
    "pycharm": {
     "name": "#%%\n"
    }
   }
  },
  {
   "cell_type": "code",
   "execution_count": null,
   "outputs": [],
   "source": [
    "start_time_svm = time.time()\n",
    "hyperparameters_svm_pca = hyperparameters_model_svm(RamanInnerArmDF_preprocessed_pca)\n",
    "print(f'Tiempo transcurrido búsqueda de hiperparámetros (total): {timedelta(seconds=(time.time() - start_time_svm))}')"
   ],
   "metadata": {
    "collapsed": false,
    "pycharm": {
     "name": "#%%\n"
    }
   }
  },
  {
   "cell_type": "code",
   "execution_count": null,
   "outputs": [],
   "source": [
    "metrics_svm_pca = {}\n",
    "for raman_key, raman_value in RamanDF_preprocessed_pca.items():\n",
    "    start_time_svm = time.time()\n",
    "    modelSVM_pca = SVC(C=hyperparameters_svm_pca['best_c'], gamma=hyperparameters_svm_pca['best_gamma'], degree=hyperparameters_svm_pca['best_degree'], kernel=hyperparameters_svm_pca['best_kernel'])\n",
    "    metrics_svm_pca[raman_key] = iter_model(raman_value, modelSVM_pca, 'Modelo SVM con PCA')\n",
    "    print(f'Tiempo transcurrido para las 1000 iteraciones (total): {timedelta(seconds=(time.time() - start_time_svm))}')"
   ],
   "metadata": {
    "collapsed": false,
    "pycharm": {
     "name": "#%%\n"
    }
   }
  },
  {
   "cell_type": "markdown",
   "source": [
    "### Random Forest"
   ],
   "metadata": {
    "collapsed": false,
    "pycharm": {
     "name": "#%% md\n"
    }
   }
  },
  {
   "cell_type": "code",
   "execution_count": null,
   "outputs": [],
   "source": [
    "# Función que busca los hiperparámetros óptimos utilizando, en este caso, RandomizedSearchCV()\n",
    "def best_hyperparameters_rf(x, y):\n",
    "    start_time = time.time()\n",
    "\n",
    "    # Se definen los hiperparámetros de búsqueda\n",
    "    n_estimators = [int(x) for x in np.linspace(start = 200, stop = 2000, num = 10)]\n",
    "    max_features = ['auto', 'sqrt']\n",
    "    max_depth = [int(x) for x in np.linspace(10, 110, num = 11)]\n",
    "    max_depth.append(None)\n",
    "    min_samples_split = [2, 5, 10]\n",
    "    min_samples_leaf = [1, 2, 4]\n",
    "    bootstrap = [True, False]\n",
    "    random_grid = {'n_estimators': n_estimators,\n",
    "                   'max_features': max_features,\n",
    "                   'max_depth': max_depth,\n",
    "                   'min_samples_split': min_samples_split,\n",
    "                   'min_samples_leaf': min_samples_leaf,\n",
    "                   'bootstrap': bootstrap}\n",
    "\n",
    "    # Se realiza una búsqueda aleatoria de 100 combinaciones de hiperparámetros\n",
    "    rf_random = RandomizedSearchCV(estimator = RandomForestClassifier(), param_distributions = random_grid, n_iter = 100, cv = LeaveOneOut(), verbose=1, n_jobs = -1)\n",
    "    rf_random.fit(x, y)\n",
    "\n",
    "    best_n_estimators = rf_random.best_params_['n_estimators']\n",
    "    best_max_features = rf_random.best_params_['max_features']\n",
    "    best_max_depth = rf_random.best_params_['max_depth']\n",
    "    best_min_samples_split = rf_random.best_params_['min_samples_split']\n",
    "    best_min_samples_leaf = rf_random.best_params_['min_samples_leaf']\n",
    "    best_bootstrap = rf_random.best_params_['bootstrap']\n",
    "    print(f'Tiempo transcurrido (best_hyperparameters): {timedelta(seconds=(time.time() - start_time))}')\n",
    "    print('------------------------------------------------------------------------')\n",
    "    return {'best_n_estimators': best_n_estimators,\n",
    "           'best_max_features': best_max_features,\n",
    "           'best_max_depth': best_max_depth,\n",
    "           'best_min_samples_split': best_min_samples_split,\n",
    "           'best_min_samples_leaf': best_min_samples_leaf,\n",
    "           'best_bootstrap': best_bootstrap}"
   ],
   "metadata": {
    "collapsed": false,
    "pycharm": {
     "name": "#%%\n"
    }
   }
  },
  {
   "cell_type": "code",
   "execution_count": null,
   "outputs": [],
   "source": [
    "# Se crea la función que obtiene los mejores hiperparámetros en 10 iteraciones\n",
    "def hyperparameters_model_rf(raman_df):\n",
    "    start_time = time.time()\n",
    "    # Hiperparámetros por iteración\n",
    "    iter_hyperparameters = []\n",
    "\n",
    "    for i in range(10):\n",
    "        iter_hyperparameters.append(best_hyperparameters_rf(raman_df.iloc[:, 1:], raman_df['has_DM2']))\n",
    "\n",
    "    n_estimators = []\n",
    "    max_features = []\n",
    "    max_depth = []\n",
    "    min_samples_split = []\n",
    "    min_samples_leaf = []\n",
    "    bootstrap = []\n",
    "\n",
    "    print('------------------------------------------------------------------------')\n",
    "    print('Mejores hiperparámetros por iteración')\n",
    "    for index, hyperparameters_i in enumerate(iter_hyperparameters):\n",
    "        print('------------------------------------------------------------------------')\n",
    "        print(f\"> Iteración {index + 1} - hiperparámetros: {hyperparameters_i}\")\n",
    "        n_estimators.append(hyperparameters_i['best_n_estimators'])\n",
    "        max_features.append(hyperparameters_i['best_max_features'])\n",
    "        max_depth.append(hyperparameters_i['best_max_depth'])\n",
    "        min_samples_split.append(hyperparameters_i['best_min_samples_split'])\n",
    "        min_samples_leaf.append(hyperparameters_i['best_min_samples_leaf'])\n",
    "        bootstrap.append(hyperparameters_i['best_bootstrap'])\n",
    "    print('------------------------------------------------------------------------')\n",
    "    print('Mejores hiperparámetros finales')\n",
    "    print(f'n_estimators: {mode(n_estimators)}, max_features : {mode(max_features)}, max_depth: {mode(max_depth)}, min_samples_split: {mode(min_samples_split)}, min_samples_leaf: {mode(min_samples_leaf)}, bootstrap: {mode(bootstrap)}')\n",
    "    print(f'Tiempo transcurrido (hyperparameters_model_rna): {timedelta(seconds=(time.time() - start_time))}')\n",
    "    print('------------------------------------------------------------------------')\n",
    "    return {'best_n_estimators': mode(n_estimators),\n",
    "            'best_max_features': mode(max_features),\n",
    "            'best_max_depth': mode(max_depth),\n",
    "            'best_min_samples_split': mode(min_samples_split),\n",
    "            'best_min_samples_leaf': mode(min_samples_leaf),\n",
    "            'best_bootstrap': mode(bootstrap)}"
   ],
   "metadata": {
    "collapsed": false,
    "pycharm": {
     "name": "#%%\n"
    }
   }
  },
  {
   "cell_type": "code",
   "execution_count": null,
   "outputs": [],
   "source": [
    "start_time_rf = time.time()\n",
    "hyperparameters_rf = hyperparameters_model_rf(RamanInnerArmDF_preprocessed)\n",
    "print(f'Tiempo transcurrido búsqueda de hiperparámetros (total): {timedelta(seconds=(time.time() - start_time_rf))}')"
   ],
   "metadata": {
    "collapsed": false,
    "pycharm": {
     "name": "#%%\n"
    }
   }
  },
  {
   "cell_type": "code",
   "execution_count": null,
   "outputs": [],
   "source": [
    "metrics_rf = {}\n",
    "for raman_key, raman_value in RamanDF_preprocessed.items():\n",
    "    start_time_rf = time.time()\n",
    "    modelRF = RandomForestClassifier(n_estimators=hyperparameters_rf['best_n_estimators'], max_features=hyperparameters_rf['best_max_features'], max_depth=hyperparameters_rf['best_max_depth'],\n",
    "                           min_samples_split=hyperparameters_rf['best_min_samples_split'], min_samples_leaf=hyperparameters_rf['best_min_samples_leaf'], bootstrap=hyperparameters_rf['best_bootstrap'])\n",
    "    metrics_rf[raman_key] = iter_model(raman_value, modelRF, 'Modelo RF')\n",
    "    print(f'Tiempo transcurrido para las 1000 iteraciones (total): {timedelta(seconds=(time.time() - start_time_rf))}')"
   ],
   "metadata": {
    "collapsed": false,
    "pycharm": {
     "name": "#%%\n"
    }
   }
  },
  {
   "cell_type": "code",
   "execution_count": null,
   "outputs": [],
   "source": [
    "start_time_rf = time.time()\n",
    "hyperparameters_rf_pca = hyperparameters_model_rf(RamanInnerArmDF_preprocessed_pca)\n",
    "print(f'Tiempo transcurrido búsqueda de hiperparámetros (total): {timedelta(seconds=(time.time() - start_time_rf))}')"
   ],
   "metadata": {
    "collapsed": false,
    "pycharm": {
     "name": "#%%\n"
    }
   }
  },
  {
   "cell_type": "code",
   "execution_count": null,
   "outputs": [],
   "source": [
    "metrics_rf_pca = {}\n",
    "for raman_key, raman_value in RamanDF_preprocessed_pca.items():\n",
    "    start_time_rf = time.time()\n",
    "    modelRF_pca = RandomForestClassifier(n_estimators=hyperparameters_rf['best_n_estimators'],\n",
    "                                      max_features=hyperparameters_rf['best_max_features'],\n",
    "                                      max_depth=hyperparameters_rf['best_max_depth'],\n",
    "                                      min_samples_split=hyperparameters_rf['best_min_samples_split'],\n",
    "                                      min_samples_leaf=hyperparameters_rf['best_min_samples_leaf'],\n",
    "                                      bootstrap=hyperparameters_rf['best_bootstrap'])\n",
    "    metrics_rf_pca[raman_key] = iter_model(raman_value, hyperparameters_rf_pca, 'Modelo RF')\n",
    "    print(f'Tiempo transcurrido para las 1000 iteraciones (total): {timedelta(seconds=(time.time() - start_time_rf))}')"
   ],
   "metadata": {
    "collapsed": false,
    "pycharm": {
     "name": "#%%\n"
    }
   }
  },
  {
   "cell_type": "markdown",
   "source": [
    "### Naive Bayes"
   ],
   "metadata": {
    "collapsed": false,
    "pycharm": {
     "name": "#%% md\n"
    }
   }
  },
  {
   "cell_type": "code",
   "execution_count": null,
   "outputs": [],
   "source": [
    "# Función que busca los hiperparámetros óptimos utilizando, en este caso, RandomizedSearchCV()\n",
    "def best_hyperparameters_nb(x, y):\n",
    "    start_time = time.time()\n",
    "\n",
    "    # Se definen los hiperparámetros de búsqueda\n",
    "    param_grid_nb = {\n",
    "        'var_smoothing': np.logspace(0,-9, num=100)\n",
    "    }\n",
    "\n",
    "    # Se realiza una búsqueda\n",
    "    grid_search = GridSearchCV(estimator = GaussianNB(), param_grid = param_grid_nb,cv = LeaveOneOut(), n_jobs = -1)\n",
    "    grid_search.fit(x, y)\n",
    "\n",
    "    best_var_smoothing = grid_search.best_params_['var_smoothing']\n",
    "    print(f'Tiempo transcurrido (best_hyperparameters): {timedelta(seconds=(time.time() - start_time))}')\n",
    "    print('------------------------------------------------------------------------')\n",
    "    return {'best_var_smoothing': best_var_smoothing}"
   ],
   "metadata": {
    "collapsed": false,
    "pycharm": {
     "name": "#%%\n"
    }
   }
  },
  {
   "cell_type": "code",
   "execution_count": null,
   "outputs": [],
   "source": [
    "# Se crea la función que obtiene los mejores hiperparámetros en 10 iteraciones\n",
    "def hyperparameters_model_nb(raman_df):\n",
    "    start_time = time.time()\n",
    "    # Hiperparámetros por iteración\n",
    "    iter_hyperparameters = []\n",
    "\n",
    "    for i in range(10):\n",
    "        iter_hyperparameters.append(best_hyperparameters_nb(raman_df.iloc[:, 1:], raman_df['has_DM2']))\n",
    "\n",
    "    var_smoothing = []\n",
    "\n",
    "    print('------------------------------------------------------------------------')\n",
    "    print('Mejores hiperparámetros por iteración')\n",
    "    for index, hyperparameters_i in enumerate(iter_hyperparameters):\n",
    "        print('------------------------------------------------------------------------')\n",
    "        print(f\"> Iteración {index + 1} - hiperparámetros: {hyperparameters_i}\")\n",
    "        var_smoothing.append(hyperparameters_i['best_var_smoothing'])\n",
    "    print('------------------------------------------------------------------------')\n",
    "    print('Mejores hiperparámetros finales')\n",
    "    print(f'var_smoothing: {mode(var_smoothing)}')\n",
    "    print(f'Tiempo transcurrido (hyperparameters_model_rna): {timedelta(seconds=(time.time() - start_time))}')\n",
    "    print('------------------------------------------------------------------------')\n",
    "    return {'best_var_smoothing': mode(var_smoothing)}"
   ],
   "metadata": {
    "collapsed": false,
    "pycharm": {
     "name": "#%%\n"
    }
   }
  },
  {
   "cell_type": "code",
   "execution_count": null,
   "outputs": [],
   "source": [
    "start_time_nb = time.time()\n",
    "hyperparameters_nb = hyperparameters_model_nb(RamanInnerArmDF_preprocessed)\n",
    "print(f'Tiempo transcurrido búsqueda de hiperparámetros (total): {timedelta(seconds=(time.time() - start_time_nb))}')"
   ],
   "metadata": {
    "collapsed": false,
    "pycharm": {
     "name": "#%%\n"
    }
   }
  },
  {
   "cell_type": "code",
   "execution_count": null,
   "outputs": [],
   "source": [
    "metrics_nb = {}\n",
    "for raman_key, raman_value in RamanDF_preprocessed.items():\n",
    "    start_time_nb = time.time()\n",
    "    modelNB = GaussianNB(var_smoothing=hyperparameters_rf['best_var_smoothing'])\n",
    "    metrics_nb[raman_key] = iter_model(raman_value, modelNB, 'Modelo NB')\n",
    "    print(f'Tiempo transcurrido para las 1000 iteraciones (total): {timedelta(seconds=(time.time() - start_time_nb))}')"
   ],
   "metadata": {
    "collapsed": false,
    "pycharm": {
     "name": "#%%\n"
    }
   }
  },
  {
   "cell_type": "code",
   "execution_count": null,
   "outputs": [],
   "source": [
    "start_time_nb = time.time()\n",
    "hyperparameters_rf_pca = hyperparameters_model_rf(RamanInnerArmDF_preprocessed_pca)\n",
    "print(f'Tiempo transcurrido búsqueda de hiperparámetros (total): {timedelta(seconds=(time.time() - start_time_nb))}')"
   ],
   "metadata": {
    "collapsed": false,
    "pycharm": {
     "name": "#%%\n"
    }
   }
  },
  {
   "cell_type": "code",
   "execution_count": null,
   "outputs": [],
   "source": [
    "metrics_nb_pca = {}\n",
    "for raman_key, raman_value in RamanDF_preprocessed_pca.items():\n",
    "    start_time_nb = time.time()\n",
    "    modelNB_pca = GaussianNB(var_smoothing=hyperparameters_rf_pca['best_var_smoothing'])\n",
    "    metrics_nb_pca[raman_key] = iter_model(raman_value, modelNB_pca, 'Modelo NB con PCA')\n",
    "    print(f'Tiempo transcurrido para las 1000 iteraciones (total): {timedelta(seconds=(time.time() - start_time_nb))}')"
   ],
   "metadata": {
    "collapsed": false,
    "pycharm": {
     "name": "#%%\n"
    }
   }
  },
  {
   "cell_type": "markdown",
   "source": [
    "### K Nearest Neighbor"
   ],
   "metadata": {
    "collapsed": false,
    "pycharm": {
     "name": "#%% md\n"
    }
   }
  },
  {
   "cell_type": "code",
   "execution_count": null,
   "outputs": [],
   "source": [
    "# Función que busca los hiperparámetros óptimos utilizando, en este caso, RandomizedSearchCV()\n",
    "def best_hyperparameters_knn(x, y):\n",
    "    start_time = time.time()\n",
    "\n",
    "    # Se definen los hiperparámetros de búsqueda\n",
    "    param_grid_knn = { 'n_neighbors' : [1,3,5,7],\n",
    "                   'weights' : ['uniform','distance'],\n",
    "                   'metric' : ['minkowski','euclidean','manhattan']}\n",
    "\n",
    "    # Se realiza una búsqueda\n",
    "    grid_search = GridSearchCV(estimator = KNeighborsClassifier(), param_grid = param_grid_knn,cv = LeaveOneOut(), n_jobs = -1)\n",
    "    grid_search.fit(x, y)\n",
    "\n",
    "\n",
    "    best_n_neighbors = grid_search.best_params_['n_neighbors']\n",
    "    best_weights = grid_search.best_params_['weights']\n",
    "    best_metric = grid_search.best_params_['metric']\n",
    "    print(f'Tiempo transcurrido (best_hyperparameters): {timedelta(seconds=(time.time() - start_time))}')\n",
    "    print('------------------------------------------------------------------------')\n",
    "    return {'best_best_n_neighbors': best_n_neighbors,\n",
    "            'best_weights': best_weights,\n",
    "            'best_metric': best_metric}"
   ],
   "metadata": {
    "collapsed": false,
    "pycharm": {
     "name": "#%%\n"
    }
   }
  },
  {
   "cell_type": "code",
   "execution_count": null,
   "outputs": [],
   "source": [
    "# Se crea la función que obtiene los mejores hiperparámetros en 10 iteraciones\n",
    "def hyperparameters_model_knn(raman_df):\n",
    "    start_time = time.time()\n",
    "    # Hiperparámetros por iteración\n",
    "    iter_hyperparameters = []\n",
    "\n",
    "    for i in range(10):\n",
    "        iter_hyperparameters.append(best_hyperparameters_knn(raman_df.iloc[:, 1:], raman_df['has_DM2']))\n",
    "\n",
    "    n_neighbors = []\n",
    "    weights = []\n",
    "    metric = []\n",
    "\n",
    "    print('------------------------------------------------------------------------')\n",
    "    print('Mejores hiperparámetros por iteración')\n",
    "    for index, hyperparameters_i in enumerate(iter_hyperparameters):\n",
    "        print('------------------------------------------------------------------------')\n",
    "        print(f\"> Iteración {index + 1} - hiperparámetros: {hyperparameters_i}\")\n",
    "        n_neighbors.append(hyperparameters_i['best_n_neighbors'])\n",
    "        weights.append(hyperparameters_i['best_weights'])\n",
    "        metric.append(hyperparameters_i['best_metric'])\n",
    "    print('------------------------------------------------------------------------')\n",
    "    print('Mejores hiperparámetros finales')\n",
    "    print(f'n_neighbors: {mode(n_neighbors)}, weights: {mode(weights)}, metric: {mode(metric)}')\n",
    "    print(f'Tiempo transcurrido (hyperparameters_model_rna): {timedelta(seconds=(time.time() - start_time))}')\n",
    "    print('------------------------------------------------------------------------')\n",
    "    return {'best_n_neighbors': mode(n_neighbors),\n",
    "            'best_weights': mode(weights),\n",
    "            'best_metric': mode(metric)}"
   ],
   "metadata": {
    "collapsed": false,
    "pycharm": {
     "name": "#%%\n"
    }
   }
  },
  {
   "cell_type": "code",
   "execution_count": null,
   "outputs": [],
   "source": [
    "start_time_knn = time.time()\n",
    "hyperparameters_knn = hyperparameters_model_knn(RamanInnerArmDF_preprocessed)\n",
    "print(f'Tiempo transcurrido búsqueda de hiperparámetros (total): {timedelta(seconds=(time.time() - start_time_knn))}')"
   ],
   "metadata": {
    "collapsed": false,
    "pycharm": {
     "name": "#%%\n"
    }
   }
  },
  {
   "cell_type": "code",
   "execution_count": null,
   "outputs": [],
   "source": [
    "metrics_knn = {}\n",
    "for raman_key, raman_value in RamanDF_preprocessed.items():\n",
    "    start_time_knn = time.time()\n",
    "    modelKNN = KNeighborsClassifier(metric=hyperparameters_knn['best_metric'], n_neighbors=hyperparameters_knn['best_n_neighbors'], weights=hyperparameters_knn['best_weights'])\n",
    "    metrics_knn[raman_key] = iter_model(raman_value, modelKNN, 'Modelo KNN')\n",
    "    print(f'Tiempo transcurrido para las 1000 iteraciones (total): {timedelta(seconds=(time.time() - start_time_knn))}')"
   ],
   "metadata": {
    "collapsed": false,
    "pycharm": {
     "name": "#%%\n"
    }
   }
  },
  {
   "cell_type": "code",
   "execution_count": null,
   "outputs": [],
   "source": [
    "start_time_knn = time.time()\n",
    "hyperparameters_knn_pca = hyperparameters_model_rf(RamanInnerArmDF_preprocessed_pca)\n",
    "print(f'Tiempo transcurrido búsqueda de hiperparámetros (total): {timedelta(seconds=(time.time() - start_time_knn))}')"
   ],
   "metadata": {
    "collapsed": false,
    "pycharm": {
     "name": "#%%\n"
    }
   }
  },
  {
   "cell_type": "code",
   "execution_count": null,
   "outputs": [],
   "source": [
    "metrics_knn_pca = {}\n",
    "for raman_key, raman_value in RamanDF_preprocessed_pca.items():\n",
    "    start_time_knn = time.time()\n",
    "    modelKNN_pca = KNeighborsClassifier(metric=hyperparameters_knn_pca['best_metric'], n_neighbors=hyperparameters_knn_pca['best_n_neighbors'], weights=hyperparameters_knn_pca['best_weights'])\n",
    "    metrics_knn_pca[raman_key] = iter_model(raman_value, modelKNN_pca, 'Modelo KNN con PCA')\n",
    "    print(f'Tiempo transcurrido para las 1000 iteraciones (total): {timedelta(seconds=(time.time() - start_time_knn))}')"
   ],
   "metadata": {
    "collapsed": false,
    "pycharm": {
     "name": "#%%\n"
    }
   }
  }
 ],
 "metadata": {
  "colab": {
   "authorship_tag": "ABX9TyPL+JfGb+fyjVxMRS2pZIIy",
   "collapsed_sections": [],
   "include_colab_link": true,
   "mount_file_id": "1pqHA_cHI2E0cpNFUGkT6m2SE3gk42lP1",
   "name": "TFM.ipynb",
   "provenance": []
  },
  "kernelspec": {
   "display_name": "Python 3 (ipykernel)",
   "language": "python",
   "name": "python3"
  },
  "language_info": {
   "codemirror_mode": {
    "name": "ipython",
    "version": 3
   },
   "file_extension": ".py",
   "mimetype": "text/x-python",
   "name": "python",
   "nbconvert_exporter": "python",
   "pygments_lexer": "ipython3",
   "version": "3.9.7"
  }
 },
 "nbformat": 4,
 "nbformat_minor": 1
}